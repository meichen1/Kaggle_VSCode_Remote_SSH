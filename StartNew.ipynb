{
 "cells": [
  {
   "cell_type": "code",
   "execution_count": null,
   "metadata": {},
   "outputs": [],
   "source": [
    "%%bash\n",
    "## have to use py3.10, original py3.7 does not work\n",
    "# Step 1: pre-capture environment variables\n",
    "printenv > /kaggle/working/kaggle_env_vars.txt\n",
    "rm -rf /kaggle/working/Kaggle_VSCode_Remote_SSH\n",
    "# rmdir /kaggle/working/Kaggle_VSCode_Remote_SSH\n",
    "\n",
    "\n",
    "# Step 2: Clone the repository, install requirements, and set permissions\n",
    "git clone https://github.com/buidai123/Kaggle_VSCode_Remote_SSH.git /kaggle/working/Kaggle_VSCode_Remote_SSH\n",
    "cd /kaggle/working/Kaggle_VSCode_Remote_SSH\n",
    "\n",
    "pwd\n",
    "pip install -r requirements.txt\n",
    "\n",
    "chmod +x install_extensions.sh\n",
    "chmod +x setup_kaggle_ssh.py\n",
    "chmod +x setup_ssh.sh\n",
    "\n",
    "# Step 3: Run the SSH setup\n",
    "./setup_ssh.sh https://raw.githubusercontent.com/meichen1/PublicKeys_SSH/main/authorized_keys\n",
    "\n",
    "# Step 4: Run the ngrok setup with Python\n",
    "python3 setup_kaggle_ssh.py 2m9wjjQABu9CmG8OxToIr3pmfez_mEThGB12VTaFgdhCauSt "
   ]
  }
 ],
 "metadata": {
  "language_info": {
   "name": "python"
  }
 },
 "nbformat": 4,
 "nbformat_minor": 2
}
